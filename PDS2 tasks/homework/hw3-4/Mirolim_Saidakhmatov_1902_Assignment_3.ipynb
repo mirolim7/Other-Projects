{
 "cells": [
  {
   "cell_type": "markdown",
   "id": "9193375d",
   "metadata": {},
   "source": [
    "# PDS: Assignment 3\n",
    "## For 10 points (not 5 points as usual)\n",
    "\n",
    "### Deadline: June 1 (until 23:59)\n",
    "\n",
    "\n",
    "**Instructions:** All answers should be filled in the notebook and then submitted to Moodle. For theoretical question you can use markdown and LaTeX. Name of notebook should be in following format:\n",
    " - Name_group_Assignment_3.ipynb (ex. Kobe_Bryant_1929_Assignment_3.ipynb)\n",
    " - Try to use fewer cells for compilation (for example, you can use print for several answers, instead of printing each answer on a separate cell)\n",
    " - **PLEASE:** submit only one jupyter notebook (no zip or csv files) and with your names as in the instruction. Ohterwise, there will be punishment for 2 points."
   ]
  },
  {
   "cell_type": "markdown",
   "id": "eb676e02",
   "metadata": {},
   "source": [
    "## Q1 (30%)\n",
    "Use Credit.csv dataset. Do the following tasks:\n",
    "1. Split your dataset to train and test sets (20% for testing) with random state equal to 2021. Imagine that you can use test set only for evaluation at the end.\n",
    "2. Using any model of your choice, predict Balance. To evaluate performance of the trained model, obtain MSE of training set, 5-fold CV, 10-fold CV, and test set. Present all results together on the same plot with line charts.\n",
    "3. Instead of using CV, obtain validation set (the size as  with some random split. Train the model on training part, and evaluate performance of the trained model on training, validation and test sets. Present all results together on the same plot with line charts.\n",
    "4. Now, repeat the step above 5 times with 5 different random splits. You can save results in five different plots. \n",
    "5. Comment the results obtained using CV and validation sets.\n",
    "\n",
    "\n",
    "*Note: You are allowed to use sklearn, but not statsmodels.*"
   ]
  },
  {
   "cell_type": "code",
   "execution_count": 3,
   "id": "22cab0c2",
   "metadata": {},
   "outputs": [],
   "source": [
    "import pandas as pd\n",
    "import numpy as np\n",
    "import pandas as pd\n",
    "import seaborn as sns\n",
    "from matplotlib import pyplot as plt\n",
    "from sklearn import linear_model\n",
    "from sklearn.model_selection import train_test_split\n",
    "from sklearn import metrics\n",
    "from sklearn.preprocessing import StandardScaler\n",
    "from sklearn.linear_model import LogisticRegression\n",
    "from sklearn.linear_model import LinearRegression\n",
    "from sklearn.model_selection import KFold\n",
    "from sklearn.model_selection import cross_val_score\n",
    "from sklearn.model_selection import train_test_split\n",
    "from sklearn.model_selection import GridSearchCV\n",
    "from sklearn.model_selection import RepeatedKFold\n",
    "from sklearn.linear_model import Ridge\n",
    "from sklearn.ensemble import BaggingClassifier, BaggingRegressor, RandomForestClassifier, RandomForestRegressor\n",
    "from sklearn.tree import DecisionTreeClassifier, DecisionTreeRegressor\n",
    "from sklearn.model_selection import RandomizedSearchCV\n",
    "from sklearn.linear_model import Lasso, LassoCV"
   ]
  },
  {
   "cell_type": "markdown",
   "id": "1d406234",
   "metadata": {},
   "source": [
    "### 1st task "
   ]
  },
  {
   "cell_type": "code",
   "execution_count": 26,
   "id": "5c9e8cb3",
   "metadata": {
    "scrolled": true
   },
   "outputs": [
    {
     "name": "stdout",
     "output_type": "stream",
     "text": [
      "The highly correlated columns(above 95% of correlation) will be removed:\n",
      "['Rating', 'Female']\n"
     ]
    },
    {
     "data": {
      "text/html": [
       "<div>\n",
       "<style scoped>\n",
       "    .dataframe tbody tr th:only-of-type {\n",
       "        vertical-align: middle;\n",
       "    }\n",
       "\n",
       "    .dataframe tbody tr th {\n",
       "        vertical-align: top;\n",
       "    }\n",
       "\n",
       "    .dataframe thead th {\n",
       "        text-align: right;\n",
       "    }\n",
       "</style>\n",
       "<table border=\"1\" class=\"dataframe\">\n",
       "  <thead>\n",
       "    <tr style=\"text-align: right;\">\n",
       "      <th></th>\n",
       "      <th>Income</th>\n",
       "      <th>Limit</th>\n",
       "      <th>Cards</th>\n",
       "      <th>Age</th>\n",
       "      <th>Education</th>\n",
       "      <th>Student</th>\n",
       "      <th>Married</th>\n",
       "      <th>Balance</th>\n",
       "      <th>African American</th>\n",
       "      <th>Asian</th>\n",
       "      <th>Caucasian</th>\n",
       "      <th>Male</th>\n",
       "    </tr>\n",
       "  </thead>\n",
       "  <tbody>\n",
       "    <tr>\n",
       "      <th>0</th>\n",
       "      <td>14.891</td>\n",
       "      <td>3606</td>\n",
       "      <td>2</td>\n",
       "      <td>34</td>\n",
       "      <td>11</td>\n",
       "      <td>0</td>\n",
       "      <td>1</td>\n",
       "      <td>333</td>\n",
       "      <td>0</td>\n",
       "      <td>0</td>\n",
       "      <td>1</td>\n",
       "      <td>1</td>\n",
       "    </tr>\n",
       "    <tr>\n",
       "      <th>1</th>\n",
       "      <td>106.025</td>\n",
       "      <td>6645</td>\n",
       "      <td>3</td>\n",
       "      <td>82</td>\n",
       "      <td>15</td>\n",
       "      <td>1</td>\n",
       "      <td>1</td>\n",
       "      <td>903</td>\n",
       "      <td>0</td>\n",
       "      <td>1</td>\n",
       "      <td>0</td>\n",
       "      <td>0</td>\n",
       "    </tr>\n",
       "    <tr>\n",
       "      <th>2</th>\n",
       "      <td>104.593</td>\n",
       "      <td>7075</td>\n",
       "      <td>4</td>\n",
       "      <td>71</td>\n",
       "      <td>11</td>\n",
       "      <td>0</td>\n",
       "      <td>0</td>\n",
       "      <td>580</td>\n",
       "      <td>0</td>\n",
       "      <td>1</td>\n",
       "      <td>0</td>\n",
       "      <td>1</td>\n",
       "    </tr>\n",
       "    <tr>\n",
       "      <th>3</th>\n",
       "      <td>148.924</td>\n",
       "      <td>9504</td>\n",
       "      <td>3</td>\n",
       "      <td>36</td>\n",
       "      <td>11</td>\n",
       "      <td>0</td>\n",
       "      <td>0</td>\n",
       "      <td>964</td>\n",
       "      <td>0</td>\n",
       "      <td>1</td>\n",
       "      <td>0</td>\n",
       "      <td>0</td>\n",
       "    </tr>\n",
       "    <tr>\n",
       "      <th>4</th>\n",
       "      <td>55.882</td>\n",
       "      <td>4897</td>\n",
       "      <td>2</td>\n",
       "      <td>68</td>\n",
       "      <td>16</td>\n",
       "      <td>0</td>\n",
       "      <td>1</td>\n",
       "      <td>331</td>\n",
       "      <td>0</td>\n",
       "      <td>0</td>\n",
       "      <td>1</td>\n",
       "      <td>1</td>\n",
       "    </tr>\n",
       "    <tr>\n",
       "      <th>...</th>\n",
       "      <td>...</td>\n",
       "      <td>...</td>\n",
       "      <td>...</td>\n",
       "      <td>...</td>\n",
       "      <td>...</td>\n",
       "      <td>...</td>\n",
       "      <td>...</td>\n",
       "      <td>...</td>\n",
       "      <td>...</td>\n",
       "      <td>...</td>\n",
       "      <td>...</td>\n",
       "      <td>...</td>\n",
       "    </tr>\n",
       "    <tr>\n",
       "      <th>395</th>\n",
       "      <td>12.096</td>\n",
       "      <td>4100</td>\n",
       "      <td>3</td>\n",
       "      <td>32</td>\n",
       "      <td>13</td>\n",
       "      <td>0</td>\n",
       "      <td>1</td>\n",
       "      <td>560</td>\n",
       "      <td>0</td>\n",
       "      <td>0</td>\n",
       "      <td>1</td>\n",
       "      <td>1</td>\n",
       "    </tr>\n",
       "    <tr>\n",
       "      <th>396</th>\n",
       "      <td>13.364</td>\n",
       "      <td>3838</td>\n",
       "      <td>5</td>\n",
       "      <td>65</td>\n",
       "      <td>17</td>\n",
       "      <td>0</td>\n",
       "      <td>0</td>\n",
       "      <td>480</td>\n",
       "      <td>1</td>\n",
       "      <td>0</td>\n",
       "      <td>0</td>\n",
       "      <td>1</td>\n",
       "    </tr>\n",
       "    <tr>\n",
       "      <th>397</th>\n",
       "      <td>57.872</td>\n",
       "      <td>4171</td>\n",
       "      <td>5</td>\n",
       "      <td>67</td>\n",
       "      <td>12</td>\n",
       "      <td>0</td>\n",
       "      <td>1</td>\n",
       "      <td>138</td>\n",
       "      <td>0</td>\n",
       "      <td>0</td>\n",
       "      <td>1</td>\n",
       "      <td>0</td>\n",
       "    </tr>\n",
       "    <tr>\n",
       "      <th>398</th>\n",
       "      <td>37.728</td>\n",
       "      <td>2525</td>\n",
       "      <td>1</td>\n",
       "      <td>44</td>\n",
       "      <td>13</td>\n",
       "      <td>0</td>\n",
       "      <td>1</td>\n",
       "      <td>0</td>\n",
       "      <td>0</td>\n",
       "      <td>0</td>\n",
       "      <td>1</td>\n",
       "      <td>1</td>\n",
       "    </tr>\n",
       "    <tr>\n",
       "      <th>399</th>\n",
       "      <td>18.701</td>\n",
       "      <td>5524</td>\n",
       "      <td>5</td>\n",
       "      <td>64</td>\n",
       "      <td>7</td>\n",
       "      <td>0</td>\n",
       "      <td>0</td>\n",
       "      <td>966</td>\n",
       "      <td>0</td>\n",
       "      <td>1</td>\n",
       "      <td>0</td>\n",
       "      <td>0</td>\n",
       "    </tr>\n",
       "  </tbody>\n",
       "</table>\n",
       "<p>400 rows × 12 columns</p>\n",
       "</div>"
      ],
      "text/plain": [
       "      Income  Limit  Cards  Age  Education  Student  Married  Balance  \\\n",
       "0     14.891   3606      2   34         11        0        1      333   \n",
       "1    106.025   6645      3   82         15        1        1      903   \n",
       "2    104.593   7075      4   71         11        0        0      580   \n",
       "3    148.924   9504      3   36         11        0        0      964   \n",
       "4     55.882   4897      2   68         16        0        1      331   \n",
       "..       ...    ...    ...  ...        ...      ...      ...      ...   \n",
       "395   12.096   4100      3   32         13        0        1      560   \n",
       "396   13.364   3838      5   65         17        0        0      480   \n",
       "397   57.872   4171      5   67         12        0        1      138   \n",
       "398   37.728   2525      1   44         13        0        1        0   \n",
       "399   18.701   5524      5   64          7        0        0      966   \n",
       "\n",
       "     African American  Asian  Caucasian   Male  \n",
       "0                   0      0          1      1  \n",
       "1                   0      1          0      0  \n",
       "2                   0      1          0      1  \n",
       "3                   0      1          0      0  \n",
       "4                   0      0          1      1  \n",
       "..                ...    ...        ...    ...  \n",
       "395                 0      0          1      1  \n",
       "396                 1      0          0      1  \n",
       "397                 0      0          1      0  \n",
       "398                 0      0          1      1  \n",
       "399                 0      1          0      0  \n",
       "\n",
       "[400 rows x 12 columns]"
      ]
     },
     "execution_count": 26,
     "metadata": {},
     "output_type": "execute_result"
    }
   ],
   "source": [
    "df = pd.read_csv('Credit.csv')\n",
    "\n",
    "#replacing Yes/No with 1/0\n",
    "for c in ['Student', 'Married']:\n",
    "    df.loc[:, c] = df[c].map({'Yes' : 1, 'No' : 0})\n",
    "    \n",
    "#taking dummies for Ethnicity and Gender column\n",
    "dum = pd.get_dummies(df['Ethnicity'])\n",
    "df = pd.concat([df, dum], axis=1)\n",
    "df = df.drop('Ethnicity', 1)\n",
    "dum = pd.get_dummies(df['Gender'])\n",
    "df = pd.concat([df, dum], axis=1)\n",
    "df = df.drop('Gender', 1)\n",
    "\n",
    "#correlation of df's columns\n",
    "corr_matrix = df.corr().abs()\n",
    "\n",
    "# Select upper triangle of correlation matrix\n",
    "upper = corr_matrix.where(np.triu(np.ones(corr_matrix.shape), k=1).astype(np.bool))\n",
    "\n",
    "# Find features with correlation greater than 0.95\n",
    "to_drop = [column for column in upper.columns if any(upper[column] > 0.95)]\n",
    "\n",
    "# Dropping highly correlated features \n",
    "print('The highly correlated columns(above 95% of correlation) will be removed:')\n",
    "print(to_drop)\n",
    "df.drop(to_drop, axis=1, inplace=True)\n",
    "\n",
    "#splitting for train, test sets with 20% of data for testing set\n",
    "y = df.Balance\n",
    "X = df.drop('Balance', 1)\n",
    "\n",
    "#scaling for better performance\n",
    "ss = StandardScaler()\n",
    "ss.fit(X)\n",
    "X = ss.transform(X)\n",
    "\n",
    "X_train, X_test, y_train, y_test = train_test_split(X, y, test_size = 0.20, random_state = 2021)"
   ]
  },
  {
   "cell_type": "markdown",
   "id": "318d3515",
   "metadata": {},
   "source": [
    "### 2nd task "
   ]
  },
  {
   "cell_type": "code",
   "execution_count": 33,
   "id": "1c88092f",
   "metadata": {},
   "outputs": [
    {
     "name": "stdout",
     "output_type": "stream",
     "text": [
      "MSE:  10911.547641873403\n",
      "\n",
      "Training set\n",
      "CV-5:  [ -93.650901   -100.37560399 -101.63856103  -94.92195184 -121.24273991]\n",
      "CV-10:  [ -89.88983516  -94.52073363  -72.02520185 -122.04681653  -89.32421242\n",
      " -109.08022863 -102.28737112  -85.48533043 -111.74507349 -123.22624712]\n",
      "\n",
      "Testing set\n",
      "CV-5:  [-104.97472832 -121.90837443 -151.44427707 -115.40651595 -100.80012297]\n",
      "CV-10:  [ -99.54309848 -108.68772345  -71.51915914 -136.9114894  -103.98865861\n",
      " -166.36001901 -115.20484267 -105.36819629  -45.294158   -129.73159092]\n"
     ]
    }
   ],
   "source": [
    "cols = df.columns.drop('Balance')\n",
    "#fitting the model\n",
    "reg = LinearRegression()\n",
    "reg.fit(X_train, y_train)\n",
    "\n",
    "#print(reg.intercept_)\n",
    "#print(reg.coef_)\n",
    "\n",
    "zip(cols, reg.coef_)\n",
    "\n",
    "#predicting\n",
    "y_pred = reg.predict(X_test)\n",
    "\n",
    "cv5 = KFold(5)\n",
    "cv10 = KFold(10)\n",
    "\n",
    "mse = metrics.mean_squared_error(y_test, y_pred)\n",
    "print('MSE: ', mse)\n",
    "print()\n",
    "print('Training set')\n",
    "mse5 = cross_val_score(reg, X_train, y_train, scoring = 'neg_root_mean_squared_error', cv = cv5)\n",
    "print('CV-5: ', mse5)\n",
    "mse10 = cross_val_score(reg, X_train, y_train, scoring = 'neg_root_mean_squared_error', cv = cv10)\n",
    "print('CV-10: ', mse10)\n",
    "\n",
    "print()\n",
    "print('Testing set')\n",
    "mse5t = cross_val_score(reg, X_test, y_test, scoring = 'neg_root_mean_squared_error', cv = cv5)\n",
    "print('CV-5: ', mse5t)\n",
    "mse10t = cross_val_score(reg, X_test, y_test, scoring = 'neg_root_mean_squared_error', cv = cv10)\n",
    "print('CV-10: ', mse10t)"
   ]
  },
  {
   "cell_type": "code",
   "execution_count": 43,
   "id": "0648f5fd",
   "metadata": {
    "scrolled": true
   },
   "outputs": [
    {
     "data": {
      "text/plain": [
       "Text(0.5, 1.0, '10-Fold CV')"
      ]
     },
     "execution_count": 43,
     "metadata": {},
     "output_type": "execute_result"
    },
    {
     "data": {
      "image/png": "[encoded data removed]",
      "text/plain": [
       "<Figure size 1296x432 with 2 Axes>"
      ]
     },
     "metadata": {
      "needs_background": "light"
     },
     "output_type": "display_data"
    }
   ],
   "source": [
    "k = [1, 2, 3, 4, 5]\n",
    "cv5_mse_df = pd.DataFrame({'k':k, 'train_mse':mse5, 'test_mse':mse5t})\n",
    "cv5_mse_df = cv5_mse_df.melt(id_vars = 'k', var_name = 'train/test', value_name = 'mse')\n",
    "#train_mse_df\n",
    "\n",
    "k = [1, 2, 3, 4, 5, 6, 7, 8, 9, 10]\n",
    "cv10_mse_df = pd.DataFrame({'k':k, 'train_mse':mse10, 'test_mse':mse10t})\n",
    "cv10_mse_df = cv10_mse_df.melt(id_vars = 'k', var_name = 'train/test', value_name = 'mse')\n",
    "#test_mse_df\n",
    "fig, ax = plt.subplots(1, 2, figsize=(18, 6))\n",
    "sns.lineplot(ax = ax[0], data = cv5_mse_df, x = 'k', y = 'mse', hue = 'train/test')\n",
    "ax[0].set_title('5-Fold CV')\n",
    "sns.lineplot(ax = ax[1], data = cv10_mse_df, x = 'k', y = 'mse', hue = 'train/test')\n",
    "ax[1].set_title('10-Fold CV')"
   ]
  },
  {
   "cell_type": "markdown",
   "id": "eb7ef0f3",
   "metadata": {},
   "source": [
    "### 3rd task "
   ]
  },
  {
   "cell_type": "code",
   "execution_count": null,
   "id": "16fda9f9",
   "metadata": {},
   "outputs": [],
   "source": []
  },
  {
   "cell_type": "markdown",
   "id": "82832873",
   "metadata": {},
   "source": [
    "## Q2 (20%)\n",
    "Use boston.csv dataset. Do the following tasks: \n",
    "1. Split your dataset to train and test sets (20% for testing) with random state equal to 2021. Imagine that you can use test set only for evaluation at the end.\n",
    "\n",
    "2. Use Ridge regression with alpha (penalty term) varying from 0 to some large value of alpha, at which all coefficients take value of 0. Using Cross-Validation select the most optimal value of alpha. \n",
    "\n",
    "3. For the selected value of alpha train your model on the training set (80%). And then evaluate on test set (20%). \n",
    "\n",
    "4. Show the coefficients of the final model.\n",
    "\n",
    "*Note: You should use regular Ridge model from sklearn (not RidgeCV) and apply CV on it.*"
   ]
  },
  {
   "cell_type": "code",
   "execution_count": 46,
   "id": "b23cb61e",
   "metadata": {},
   "outputs": [
    {
     "name": "stdout",
     "output_type": "stream",
     "text": [
      "Best alpha:  {'alpha': 0.99}\n"
     ]
    }
   ],
   "source": [
    "df = pd.read_csv('boston.csv')\n",
    "\n",
    "y = df.medv\n",
    "X = df.drop('medv', 1)\n",
    "\n",
    "#scaling for better performance\n",
    "ss = StandardScaler()\n",
    "ss.fit(X)\n",
    "X = ss.transform(X)\n",
    "\n",
    "X_train, X_test, y_train, y_test = train_test_split(X, y, test_size = 0.20, random_state = 2021)\n",
    "\n",
    "model = Ridge()\n",
    "# define model evaluation method\n",
    "cv = RepeatedKFold(n_splits=10, n_repeats=3, random_state=1)\n",
    "# define grid\n",
    "grid = dict()\n",
    "grid['alpha'] = np.arange(0, 1, 0.01)\n",
    "# define and perform the search\n",
    "search = GridSearchCV(model, grid, scoring='neg_mean_absolute_error', cv=cv, n_jobs=-1)\n",
    "res = search.fit(X, y)\n",
    "# \n",
    "print('Best alpha: ', res.best_params_)"
   ]
  },
  {
   "cell_type": "code",
   "execution_count": 47,
   "id": "f13799b7",
   "metadata": {},
   "outputs": [
    {
     "name": "stdout",
     "output_type": "stream",
     "text": [
      "MSE:  23.234888773301833\n",
      "Coef's:  [-0.9754636   1.2219779  -0.00530929  0.89347506 -2.0659633   2.69887819\n",
      "  0.30072354 -3.18714021  2.86886032 -1.92283661 -1.90186567  0.86921536\n",
      " -4.10420825]\n"
     ]
    }
   ],
   "source": [
    "model = Ridge(alpha = 0.99)\n",
    "model.fit(X_train, y_train)\n",
    "\n",
    "y_pred = model.predict(X_test)\n",
    "print('MSE: ', metrics.mean_squared_error(y_test, y_pred))\n",
    "print(\"Coef's: \", model.coef_)"
   ]
  },
  {
   "cell_type": "markdown",
   "id": "940f53d8",
   "metadata": {},
   "source": [
    "## Q3 (30%)\n",
    "Use Wage.csv dataset. Do the following tasks:\n",
    "1. Split your dataset to train and test sets (20% for testing) with random state equal to 2021. Imagine that you can use test set only for evaluation at the end.\n",
    "2. Perform some data preprocessing.\n",
    "3. Build Tree model to predict wage value. Set up parameters as you want or use default parameters. Evaluate the performance on test set.\n",
    "4. Do the same but with Bagging.\n",
    "5. Do the same but with Random Forest. \n",
    "6. Compare their resuts. Which model it is better to use. \n",
    "7. Now, for Random Forest model select the parameter that should be tuned and use CV to tune this parameter.\n",
    "8. After selecting the parameter, run the model again. Show it's performance on test set. "
   ]
  },
  {
   "cell_type": "code",
   "execution_count": 2,
   "id": "c5551a8c",
   "metadata": {
    "scrolled": true
   },
   "outputs": [
    {
     "name": "stdout",
     "output_type": "stream",
     "text": [
      "The highly correlated columns(above 95% of correlation) will be removed:\n",
      "['jobclass_2. Information']\n"
     ]
    }
   ],
   "source": [
    "#Preprocessing...\n",
    "df = pd.read_csv('Wage.csv')\n",
    "\n",
    "y = df.wage\n",
    "#len(df['Unnamed: 0'].unique())\n",
    "df = df.drop(columns='Unnamed: 0')\n",
    "\n",
    "df.loc[:, 'health'] = df['health'].map({'1. <=Good':0, '2. >=Very Good':1})\n",
    "df.loc[:, 'health_ins'] = df['health_ins'].map({'1. Yes':1, '2. No':0})\n",
    "#taking dummies for cat-l columns:\n",
    "dummy = pd.get_dummies(df[['education', 'race', 'maritl', 'year', 'sex', 'jobclass', 'region']])\n",
    "numeric = df[['age', 'logwage', 'health', 'health_ins']]\n",
    "\n",
    "df = pd.concat([numeric, dummy], axis = 1)\n",
    "\n",
    "#correlation of df's columns\n",
    "corr_matrix = df.corr().abs()\n",
    "\n",
    "# Select upper triangle of correlation matrix\n",
    "upper = corr_matrix.where(np.triu(np.ones(corr_matrix.shape), k=1).astype(np.bool))\n",
    "\n",
    "# Find features with correlation greater than 0.95\n",
    "to_drop = [column for column in upper.columns if any(upper[column] > 0.95)]\n",
    "\n",
    "# Dropping highly correlated features \n",
    "print('The highly correlated columns(above 95% of correlation) will be removed:')\n",
    "print(to_drop)\n",
    "df.drop(to_drop, axis=1, inplace=True)\n",
    "\n",
    "#splitting for train, test sets with 20% of data for testing set\n",
    "\n",
    "X = df\n",
    "\n",
    "#scaling for better performance\n",
    "ss = StandardScaler()\n",
    "ss.fit(X)\n",
    "X = ss.transform(X)\n",
    "\n",
    "X_train, X_test, y_train, y_test = train_test_split(X, y, test_size = 0.20, random_state = 2021)"
   ]
  },
  {
   "cell_type": "code",
   "execution_count": 3,
   "id": "df5f549a",
   "metadata": {},
   "outputs": [
    {
     "name": "stdout",
     "output_type": "stream",
     "text": [
      "Decision Tree Regressor: \n",
      "MSE:  0.28353577091134563\n",
      "Bagging Regressor: \n",
      "MSE:  0.27031872416913594\n",
      "Random Forest Regressor: \n",
      "MSE:  0.2644931222253798\n"
     ]
    }
   ],
   "source": [
    "dtree = DecisionTreeRegressor().fit(X_train, y_train)\n",
    "d_predict = dtree.predict(X_test)\n",
    "print('Decision Tree Regressor: ')\n",
    "print('MSE: ', metrics.mean_squared_error(y_test, d_predict))\n",
    "\n",
    "bdt = BaggingRegressor(DecisionTreeRegressor()).fit(X_train, y_train)\n",
    "bdt_predict = bdt.predict(X_test)\n",
    "print('Bagging Regressor: ')\n",
    "print('MSE: ', metrics.mean_squared_error(y_test, bdt_predict))\n",
    "\n",
    "rf = RandomForestRegressor().fit(X_train, y_train)\n",
    "rf_predict = rf.predict(X_test)\n",
    "print('Random Forest Regressor: ')\n",
    "print('MSE: ', metrics.mean_squared_error(y_test, rf_predict))"
   ]
  },
  {
   "cell_type": "markdown",
   "id": "d0940f78",
   "metadata": {},
   "source": [
    "Random Forest has least MSE, so it is better to use this model"
   ]
  },
  {
   "cell_type": "code",
   "execution_count": null,
   "id": "321e0afb",
   "metadata": {},
   "outputs": [
    {
     "name": "stdout",
     "output_type": "stream",
     "text": [
      "Fitting 3 folds for each of 100 candidates, totalling 300 fits\n"
     ]
    }
   ],
   "source": [
    "n_estimators = [int(x) for x in np.linspace(start = 200, stop = 2000, num = 10)]\n",
    "max_features = ['auto', 'sqrt']\n",
    "max_depth = [int(x) for x in np.linspace(10, 110, num = 11)]\n",
    "max_depth.append(None)\n",
    "min_samples_split = [2, 5, 10]\n",
    "min_samples_leaf = [1, 2, 4]\n",
    "bootstrap = [True, False]\n",
    "\n",
    "random_grid = {'n_estimators': n_estimators,\n",
    "               'max_features': max_features,\n",
    "               'max_depth': max_depth,\n",
    "               'min_samples_split': min_samples_split,\n",
    "               'min_samples_leaf': min_samples_leaf,\n",
    "               'bootstrap': bootstrap}\n",
    "\n",
    "rf = RandomForestRegressor()\n",
    "rf_random = RandomizedSearchCV(estimator = rf, param_distributions = random_grid, \n",
    "                               n_iter = 100, cv = 3, verbose=2, random_state=42, n_jobs = -1)\n",
    "rf_random.fit(X_train, y_train)\n",
    "\n",
    "param_grid = {\n",
    "    'bootstrap': [True],\n",
    "    'max_depth': [80, 90, 100, 110],\n",
    "    'max_features': [2, 3],\n",
    "    'min_samples_leaf': [3, 4, 5],\n",
    "    'min_samples_split': [8, 10, 12],\n",
    "    'n_estimators': [100, 200, 300, 1000]\n",
    "}\n",
    "\n",
    "grid_search = GridSearchCV(estimator = rf, param_grid = param_grid, \n",
    "                           cv = 3, n_jobs = -1, verbose = 2)\n",
    "\n",
    "grid_search.fit(X_train, y_train)\n",
    "params = grid_search.best_params_\n",
    "\n",
    "print(params)\n",
    "\n",
    "#rf = RandomForestRegressor(params)\n",
    "#rf.fit(X_train, y_train)\n",
    "#y_pred = rf.predict(X_test)\n",
    "#print('Random Forest Regressor: ')\n",
    "#print('MSE: ', metrics.mean_squared_error(y_test, y_pred))"
   ]
  },
  {
   "cell_type": "markdown",
   "id": "b70d9e8a-7373-440f-b471-3b5290e9ad3e",
   "metadata": {},
   "source": [
    "## Q4 (20%)\n",
    "Again use boston.csv dataset. Do the following tasks: \n",
    "1. Split your dataset to train and test sets (20% for testing) with random state equal to 2021. Imagine that you can use test set only for evaluation at the end.\n",
    "\n",
    "2. Use Lasso regression with alpha (penalty term) varying from 0 to some large value of alpha, at which all coefficients take value of 0. Using Cross-Validation select the most optimal value of alpha. \n",
    "\n",
    "3. For the selected value of alpha train your model on the training set (80%). And then evaluate on test set (20%). \n",
    "\n",
    "4. Show the coefficients of the final model.\n",
    "\n",
    "5. Compare your results (i.e. test MSE) and coefficients with the Ridge Model.\n",
    "\n",
    "*Note: In this case you should use LassoCV (not Lasso and apply CV separately).*"
   ]
  },
  {
   "cell_type": "code",
   "execution_count": 7,
   "id": "dd9f9bc2-39c8-4e7c-93a3-670c5dfbf3f1",
   "metadata": {},
   "outputs": [
    {
     "name": "stdout",
     "output_type": "stream",
     "text": [
      "Alpha is:  0.007128860571565509\n",
      "MSE:  23.207999191566017\n"
     ]
    }
   ],
   "source": [
    "df = pd.read_csv('boston.csv')\n",
    "\n",
    "y = df.medv\n",
    "X = df.drop('medv', 1)\n",
    "\n",
    "#scaling for better performance\n",
    "ss = StandardScaler()\n",
    "ss.fit(X)\n",
    "X = ss.transform(X)\n",
    "\n",
    "X_train, X_test, y_train, y_test = train_test_split(X, y, test_size = 0.20, random_state = 2021)\n",
    "\n",
    "lasso = Lasso()\n",
    "lassocv = LassoCV(cv = 10)\n",
    "lassocv.fit(X_train, y_train)\n",
    "\n",
    "lasso.set_params(alpha=lassocv.alpha_)\n",
    "lasso.fit(X_train, y_train)\n",
    "print('Alpha is: ', lassocv.alpha_)\n",
    "print('MSE: ', metrics.mean_squared_error(y_test, lasso.predict(X_test)))"
   ]
  },
  {
   "cell_type": "markdown",
   "id": "8baad0f3",
   "metadata": {},
   "source": [
    "With Ridge, MSE was 23.235, with Lasso, it is 23.208. So Lasso has better performance."
   ]
  }
 ],
 "metadata": {
  "kernelspec": {
   "display_name": "Python 3",
   "language": "python",
   "name": "python3"
  },
  "language_info": {
   "codemirror_mode": {
    "name": "ipython",
    "version": 3
   },
   "file_extension": ".py",
   "mimetype": "text/x-python",
   "name": "python",
   "nbconvert_exporter": "python",
   "pygments_lexer": "ipython3",
   "version": "3.8.8"
  }
 },
 "nbformat": 4,
 "nbformat_minor": 5
}
