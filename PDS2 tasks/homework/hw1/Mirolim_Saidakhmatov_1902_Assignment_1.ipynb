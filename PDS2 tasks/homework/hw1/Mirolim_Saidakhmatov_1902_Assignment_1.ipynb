{
 "cells": [
  {
   "cell_type": "markdown",
   "metadata": {},
   "source": [
    "# PDS: Assignment 1\n",
    "\n",
    "### Deadline: April 18 (until 23:59)\n",
    "\n",
    "\n",
    "**Instructions:** All answers should be filled in the notebook and then submitted to Moodle. For theoretical question you can use markdown and LaTeX. Name of notebook should be in following format:\n",
    " - Name_group_Assignment_1.ipynb (ex. Bill_Gates_1905_Assignment_1.ipynb)\n",
    " - Try to use fewer cells for compilation (for example, you can use print for several answers, instead of printing each answer on a separate cell)\n",
    " - **PLEASE:** submit only one jupyter notebook (no zip or csv files) and with your names as in the instruction. Ohterwise, there will be punishment for 50%."
   ]
  },
  {
   "cell_type": "markdown",
   "metadata": {},
   "source": [
    "## Q1 (20%)\n",
    "Prove the Bias-Variance tradeoff decomposition, where MSE can be written as a sum of Variance of the estimator, Bias (squared) of the estimator and an irreducible error. "
   ]
  },
  {
   "cell_type": "markdown",
   "metadata": {},
   "source": [
    "E[(fk(x) − E(fk(x)))(f(x) − E(fk(x))] = E[fk(x) − E(fk(x))](f(x) − E(fk(x))) = 0\n",
    "\n",
    "\n",
    "E[(f(x) − fk(x))^2] = MSE(fk(x)) = Var(fk(x)) + Bias^2(fk(x))\n",
    "\n",
    "\n",
    "E[(Y − fk(x))^2] = E[(f(x) + ϵ − fk(x))^2]\n",
    "\n",
    "             MSE = E[(f(x) − fk(x))^2] + 2E[(f(x) − fk(x))ϵ] + E[ϵ^2]\n",
    "\n",
    "             MSE = E[(f(x) − E(fk(x)) + E(fk(x)) − fk(x))^2] + 2E[(f(x) − fk(x))ϵ] + σ^2 \n",
    "             \n",
    "             MSE = Var(fk(x)) + Bias^2(fk(x)) + σ^2."
   ]
  },
  {
   "cell_type": "markdown",
   "metadata": {},
   "source": [
    "## Q2 (30%)\n",
    "- read netflix data: 0%\n",
    "- find ratios of Movies and TV Shows for different countries: 10%\n",
    "- plot histogram of average duration length for movies with following genres: \"dramas\", \"comedies\", \"sports movies\" (for this case use only first genre): 10%\n",
    "- create pivot table with count of word \"love\" in description for different genres (for this case use only first genre): 10%"
   ]
  },
  {
   "cell_type": "code",
   "execution_count": 1,
   "metadata": {},
   "outputs": [],
   "source": [
    "import pandas as pd\n",
    "import seaborn as sns\n",
    "import matplotlib.pyplot as plt \n",
    "import numpy as np\n",
    "from sklearn import datasets\n",
    "from sklearn.model_selection import train_test_split, cross_val_score\n",
    "import mglearn\n",
    "from sklearn.neighbors import KNeighborsClassifier\n",
    "import matplotlib.dates as mdates"
   ]
  },
  {
   "cell_type": "code",
   "execution_count": 2,
   "metadata": {
    "scrolled": true
   },
   "outputs": [
    {
     "name": "stderr",
     "output_type": "stream",
     "text": [
      "<ipython-input-2-b389d13094fc>:5: SettingWithCopyWarning: \n",
      "A value is trying to be set on a copy of a slice from a DataFrame.\n",
      "Try using .loc[row_indexer,col_indexer] = value instead\n",
      "\n",
      "See the caveats in the documentation: https://pandas.pydata.org/pandas-docs/stable/user_guide/indexing.html#returning-a-view-versus-a-copy\n",
      "  df1['country'] = df1['country'].str.split(', ').str[0]\n"
     ]
    },
    {
     "data": {
      "text/html": [
       "<div>\n",
       "<style scoped>\n",
       "    .dataframe tbody tr th:only-of-type {\n",
       "        vertical-align: middle;\n",
       "    }\n",
       "\n",
       "    .dataframe tbody tr th {\n",
       "        vertical-align: top;\n",
       "    }\n",
       "\n",
       "    .dataframe thead th {\n",
       "        text-align: right;\n",
       "    }\n",
       "</style>\n",
       "<table border=\"1\" class=\"dataframe\">\n",
       "  <thead>\n",
       "    <tr style=\"text-align: right;\">\n",
       "      <th></th>\n",
       "      <th>country</th>\n",
       "      <th>tv_shows</th>\n",
       "      <th>movie</th>\n",
       "      <th>rat</th>\n",
       "      <th>ratio</th>\n",
       "    </tr>\n",
       "  </thead>\n",
       "  <tbody>\n",
       "    <tr>\n",
       "      <th>0</th>\n",
       "      <td>Argentina</td>\n",
       "      <td>50</td>\n",
       "      <td>18.0</td>\n",
       "      <td>1 : 0.4</td>\n",
       "      <td>NaN</td>\n",
       "    </tr>\n",
       "    <tr>\n",
       "      <th>1</th>\n",
       "      <td>Australia</td>\n",
       "      <td>56</td>\n",
       "      <td>52.0</td>\n",
       "      <td>1 : 0.9</td>\n",
       "      <td>NaN</td>\n",
       "    </tr>\n",
       "    <tr>\n",
       "      <th>2</th>\n",
       "      <td>Austria</td>\n",
       "      <td>7</td>\n",
       "      <td>1.0</td>\n",
       "      <td>1 : 0.1</td>\n",
       "      <td>NaN</td>\n",
       "    </tr>\n",
       "    <tr>\n",
       "      <th>3</th>\n",
       "      <td>Bangladesh</td>\n",
       "      <td>2</td>\n",
       "      <td>0.0</td>\n",
       "      <td>1 : 0.0</td>\n",
       "      <td>NaN</td>\n",
       "    </tr>\n",
       "    <tr>\n",
       "      <th>4</th>\n",
       "      <td>Belgium</td>\n",
       "      <td>6</td>\n",
       "      <td>8.0</td>\n",
       "      <td>1 : 1.3</td>\n",
       "      <td>NaN</td>\n",
       "    </tr>\n",
       "    <tr>\n",
       "      <th>5</th>\n",
       "      <td>Brazil</td>\n",
       "      <td>52</td>\n",
       "      <td>27.0</td>\n",
       "      <td>1 : 0.5</td>\n",
       "      <td>NaN</td>\n",
       "    </tr>\n",
       "    <tr>\n",
       "      <th>6</th>\n",
       "      <td>Bulgaria</td>\n",
       "      <td>5</td>\n",
       "      <td>0.0</td>\n",
       "      <td>1 : 0.0</td>\n",
       "      <td>NaN</td>\n",
       "    </tr>\n",
       "  </tbody>\n",
       "</table>\n",
       "</div>"
      ],
      "text/plain": [
       "      country  tv_shows  movie      rat ratio\n",
       "0   Argentina        50   18.0  1 : 0.4   NaN\n",
       "1   Australia        56   52.0  1 : 0.9   NaN\n",
       "2     Austria         7    1.0  1 : 0.1   NaN\n",
       "3  Bangladesh         2    0.0  1 : 0.0   NaN\n",
       "4     Belgium         6    8.0  1 : 1.3   NaN\n",
       "5      Brazil        52   27.0  1 : 0.5   NaN\n",
       "6    Bulgaria         5    0.0  1 : 0.0   NaN"
      ]
     },
     "execution_count": 2,
     "metadata": {},
     "output_type": "execute_result"
    }
   ],
   "source": [
    "#Q2 - find ratios of Movies and TV Shows for different countries\n",
    "df = pd.read_csv('netflix_titles.csv')\n",
    "\n",
    "df1 = df[['type', 'country']]\n",
    "df1['country'] = df1['country'].str.split(', ').str[0]\n",
    "\n",
    "df_tv = df1[df1['type'] == 'TV Show']\n",
    "df_tv = df_tv[['type', 'country']].groupby('country', as_index = False).count()\n",
    "df_mov = df1[df1['type'] == 'Movie']\n",
    "df_mov = df_mov[['type', 'country']].groupby('country', as_index = False).count()\n",
    "\n",
    "df1 = df_tv.merge(df_mov, how='right', on = 'country')\n",
    "df1.fillna(0, inplace = True)\n",
    "df1.rename(columns = {'type_x' : 'movie', 'type_y' : 'tv_shows'}, inplace = True)\n",
    "df1['tv_shows'] = df1.tv_shows.astype('int')\n",
    "df1['rat'] = round(df1['movie']/df1['tv_shows'], 1) \n",
    "df1['rat'] = '1 : ' + df1['rat'].astype(str)\n",
    "df1 = df1[['country', 'tv_shows', 'movie', 'rat']]\n",
    "df1.loc[df1.rat.str.contains('inf'), 'ratio'] = '1 : 0'\n",
    "df1.head(7)"
   ]
  },
  {
   "cell_type": "code",
   "execution_count": 3,
   "metadata": {
    "scrolled": true
   },
   "outputs": [
    {
     "data": {
      "text/plain": [
       "<AxesSubplot:xlabel='genre', ylabel='dur'>"
      ]
     },
     "execution_count": 3,
     "metadata": {},
     "output_type": "execute_result"
    },
    {
     "data": {
      "image/png": "[encoded data removed]",
      "text/plain": [
       "<Figure size 432x288 with 1 Axes>"
      ]
     },
     "metadata": {
      "needs_background": "light"
     },
     "output_type": "display_data"
    }
   ],
   "source": [
    "#Q2 - plot histogram of average duration length for movies with following genres: \"dramas\", \"comedies\", \"sports movies\"\n",
    "df2 = df.copy()\n",
    "df2['genre'] = df2['listed_in'].str.split(',').str[0]\n",
    "df2 = df2[df2['duration'].str.contains(' min')]\n",
    "df2['dur'] = df2.duration.str.split(' ').str[0].astype(int)\n",
    "df2 = df2[(df2['genre'] == 'Dramas') | (df2['genre'] == 'Comedies') | (df2['genre'] == 'Sports Movies')]\n",
    "\n",
    "sns.barplot(x='genre', y='dur', data=df2)"
   ]
  },
  {
   "cell_type": "code",
   "execution_count": 4,
   "metadata": {},
   "outputs": [
    {
     "data": {
      "text/html": [
       "<div>\n",
       "<style scoped>\n",
       "    .dataframe tbody tr th:only-of-type {\n",
       "        vertical-align: middle;\n",
       "    }\n",
       "\n",
       "    .dataframe tbody tr th {\n",
       "        vertical-align: top;\n",
       "    }\n",
       "\n",
       "    .dataframe thead th {\n",
       "        text-align: right;\n",
       "    }\n",
       "</style>\n",
       "<table border=\"1\" class=\"dataframe\">\n",
       "  <thead>\n",
       "    <tr style=\"text-align: right;\">\n",
       "      <th></th>\n",
       "      <th>description</th>\n",
       "    </tr>\n",
       "    <tr>\n",
       "      <th>listed_in</th>\n",
       "      <th></th>\n",
       "    </tr>\n",
       "  </thead>\n",
       "  <tbody>\n",
       "    <tr>\n",
       "      <th>Dramas</th>\n",
       "      <td>164</td>\n",
       "    </tr>\n",
       "    <tr>\n",
       "      <th>International TV Shows</th>\n",
       "      <td>124</td>\n",
       "    </tr>\n",
       "    <tr>\n",
       "      <th>Comedies</th>\n",
       "      <td>121</td>\n",
       "    </tr>\n",
       "    <tr>\n",
       "      <th>Action &amp; Adventure</th>\n",
       "      <td>39</td>\n",
       "    </tr>\n",
       "    <tr>\n",
       "      <th>Children &amp; Family Movies</th>\n",
       "      <td>23</td>\n",
       "    </tr>\n",
       "    <tr>\n",
       "      <th>Stand-Up Comedy</th>\n",
       "      <td>18</td>\n",
       "    </tr>\n",
       "    <tr>\n",
       "      <th>Kids' TV</th>\n",
       "      <td>15</td>\n",
       "    </tr>\n",
       "    <tr>\n",
       "      <th>Documentaries</th>\n",
       "      <td>14</td>\n",
       "    </tr>\n",
       "    <tr>\n",
       "      <th>Crime TV Shows</th>\n",
       "      <td>14</td>\n",
       "    </tr>\n",
       "    <tr>\n",
       "      <th>International Movies</th>\n",
       "      <td>13</td>\n",
       "    </tr>\n",
       "    <tr>\n",
       "      <th>Reality TV</th>\n",
       "      <td>8</td>\n",
       "    </tr>\n",
       "    <tr>\n",
       "      <th>Docuseries</th>\n",
       "      <td>7</td>\n",
       "    </tr>\n",
       "    <tr>\n",
       "      <th>Classic Movies</th>\n",
       "      <td>7</td>\n",
       "    </tr>\n",
       "    <tr>\n",
       "      <th>British TV Shows</th>\n",
       "      <td>7</td>\n",
       "    </tr>\n",
       "    <tr>\n",
       "      <th>Romantic TV Shows</th>\n",
       "      <td>7</td>\n",
       "    </tr>\n",
       "    <tr>\n",
       "      <th>Horror Movies</th>\n",
       "      <td>3</td>\n",
       "    </tr>\n",
       "    <tr>\n",
       "      <th>Movies</th>\n",
       "      <td>3</td>\n",
       "    </tr>\n",
       "    <tr>\n",
       "      <th>TV Comedies</th>\n",
       "      <td>3</td>\n",
       "    </tr>\n",
       "    <tr>\n",
       "      <th>TV Dramas</th>\n",
       "      <td>3</td>\n",
       "    </tr>\n",
       "    <tr>\n",
       "      <th>Anime Features</th>\n",
       "      <td>2</td>\n",
       "    </tr>\n",
       "    <tr>\n",
       "      <th>Classic &amp; Cult TV</th>\n",
       "      <td>2</td>\n",
       "    </tr>\n",
       "    <tr>\n",
       "      <th>Stand-Up Comedy &amp; Talk Shows</th>\n",
       "      <td>2</td>\n",
       "    </tr>\n",
       "    <tr>\n",
       "      <th>Thrillers</th>\n",
       "      <td>2</td>\n",
       "    </tr>\n",
       "    <tr>\n",
       "      <th>Spanish-Language TV Shows</th>\n",
       "      <td>1</td>\n",
       "    </tr>\n",
       "    <tr>\n",
       "      <th>Anime Series</th>\n",
       "      <td>1</td>\n",
       "    </tr>\n",
       "    <tr>\n",
       "      <th>TV Action &amp; Adventure</th>\n",
       "      <td>1</td>\n",
       "    </tr>\n",
       "  </tbody>\n",
       "</table>\n",
       "</div>"
      ],
      "text/plain": [
       "                              description\n",
       "listed_in                                \n",
       "Dramas                                164\n",
       "International TV Shows                124\n",
       "Comedies                              121\n",
       "Action & Adventure                     39\n",
       "Children & Family Movies               23\n",
       "Stand-Up Comedy                        18\n",
       "Kids' TV                               15\n",
       "Documentaries                          14\n",
       "Crime TV Shows                         14\n",
       "International Movies                   13\n",
       "Reality TV                              8\n",
       "Docuseries                              7\n",
       "Classic Movies                          7\n",
       "British TV Shows                        7\n",
       "Romantic TV Shows                       7\n",
       "Horror Movies                           3\n",
       "Movies                                  3\n",
       "TV Comedies                             3\n",
       "TV Dramas                               3\n",
       "Anime Features                          2\n",
       "Classic & Cult TV                       2\n",
       "Stand-Up Comedy & Talk Shows            2\n",
       "Thrillers                               2\n",
       "Spanish-Language TV Shows               1\n",
       "Anime Series                            1\n",
       "TV Action & Adventure                   1"
      ]
     },
     "execution_count": 4,
     "metadata": {},
     "output_type": "execute_result"
    }
   ],
   "source": [
    "#Q2 - create pivot table with count of word \"love\" in description for different genres\n",
    "df['listed_in'] = df['listed_in'].str.split(', ').str[0]\n",
    "\n",
    "df3 = df[(df['description'].str.contains('love'))] \n",
    "df3 = df3[['listed_in', 'description']].groupby('listed_in', as_index = False).count()\n",
    "pd.pivot_table(df3, index = 'listed_in', values = 'description').sort_values(\n",
    "    by = 'description', ascending = False)"
   ]
  },
  {
   "cell_type": "markdown",
   "metadata": {},
   "source": [
    "## Q3 (20%)\n",
    "Read \"tidy_data.xlsx\" and make it in Tidy Data Format. Plot scatterplots for each persons test results. \n",
    "\n",
    "_There should be 6 different scatterplots for each person_\n",
    "\n",
    "_In every scatterplot there should be 25 different colors in scatterplot for each test_"
   ]
  },
  {
   "cell_type": "code",
   "execution_count": 5,
   "metadata": {},
   "outputs": [
    {
     "data": {
      "text/plain": [
       "<seaborn.axisgrid.FacetGrid at 0x28ecb4bc820>"
      ]
     },
     "execution_count": 5,
     "metadata": {},
     "output_type": "execute_result"
    },
    {
     "data": {
      "text/plain": [
       "<Figure size 1296x576 with 0 Axes>"
      ]
     },
     "metadata": {},
     "output_type": "display_data"
    },
    {
     "data": {
      "image/png": "[encoded data removed]",
      "text/plain": [
       "<Figure size 715.875x432 with 6 Axes>"
      ]
     },
     "metadata": {
      "needs_background": "light"
     },
     "output_type": "display_data"
    }
   ],
   "source": [
    "df = pd.read_excel('tidy_data.xlsx')\n",
    "df = pd.melt(df, id_vars = ['date' ,'Name', 'Sex'], var_name= 'Test', value_name= 'Score')\n",
    "\n",
    "plt.figure(figsize=(18, 8))\n",
    "plot = sns.FacetGrid(df, col = 'Name', hue = 'Test', col_wrap = 3)\n",
    "plot.map(sns.scatterplot, 'date', 'Score', alpha = 0.8)\n",
    "ft = mdates.DateFormatter('%m%y')\n",
    "plot.axes[0].xaxis.set_major_formatter(ft)\n",
    "plot.add_legend()"
   ]
  },
  {
   "cell_type": "markdown",
   "metadata": {},
   "source": [
    "## Q4 (30%)\n",
    "- read \"knn_bias_variance_tradeoff.csv\" file: 0%\n",
    "- split your data into train and test samples with test_size = 0.3: 5%\n",
    "- create bias variance tradeoff plot of accuracy of your KNN model for train and test: 5%\n",
    "- normalize (use algorithm of your choice) your entire data, and then split your data into train and test samples with test_size = 0.3: 5%\n",
    "- based on normalized data create bias variance tradeoff plot of accuracy of your KNN model for train and test: 5%\n",
    "- try to use auc metrics instead of accuracy, and then create bias variance tradeoff plot: 5%\n",
    "- make conclusions of your findings (which data outputs clear bias variance tradeoff plot, which accuracy outputs clear bias variance tradeoff plot, etc.): 5%"
   ]
  },
  {
   "cell_type": "code",
   "execution_count": 6,
   "metadata": {},
   "outputs": [],
   "source": [
    "#Q4 - read \"knn_bias_variance_tradeoff.csv\" file; split your data into train and test samples with test_size = 0.3\n",
    "df = pd.read_csv('knn_bias_variance_tradeoff.csv')\n",
    "\n",
    "y = df['TARGET CLASS']\n",
    "X = df.drop(['TARGET CLASS'], axis = 1)\n",
    "\n",
    "X_train, X_test, y_train, y_test = train_test_split(X, y, test_size = 0.3)"
   ]
  },
  {
   "cell_type": "code",
   "execution_count": null,
   "metadata": {},
   "outputs": [],
   "source": []
  }
 ],
 "metadata": {
  "kernelspec": {
   "display_name": "Python 3",
   "language": "python",
   "name": "python3"
  },
  "language_info": {
   "codemirror_mode": {
    "name": "ipython",
    "version": 3
   },
   "file_extension": ".py",
   "mimetype": "text/x-python",
   "name": "python",
   "nbconvert_exporter": "python",
   "pygments_lexer": "ipython3",
   "version": "3.8.5"
  }
 },
 "nbformat": 4,
 "nbformat_minor": 5
}
