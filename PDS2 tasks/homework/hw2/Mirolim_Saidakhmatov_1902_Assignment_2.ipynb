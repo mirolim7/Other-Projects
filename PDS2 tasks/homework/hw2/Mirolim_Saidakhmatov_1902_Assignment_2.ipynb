{
 "cells": [
  {
   "cell_type": "markdown",
   "id": "05fa6292",
   "metadata": {},
   "source": [
    "# PDS: Assignment 2\n",
    "\n",
    "### Deadline: April 30 (until 23:59)\n",
    "\n",
    "\n",
    "**Instructions:** All answers should be filled in the notebook and then submitted to Moodle. For theoretical question you can use markdown and LaTeX. Name of notebook should be in following format:\n",
    " - Name_group_Assignment_1.ipynb (ex. Elon_Musk_1906_Assignment_2.ipynb)\n",
    " - Try to use fewer cells for compilation (for example, you can use print for several answers, instead of printing each answer on a separate cell)\n",
    " - **PLEASE:** submit only one jupyter notebook (no zip or csv files) and with your names as in the instruction. Ohterwise, there will be punishment for 2 points."
   ]
  },
  {
   "cell_type": "markdown",
   "id": "0158a0e2",
   "metadata": {},
   "source": [
    "## Q1 (40%)\n",
    "Use Credit.csv datasets and use only parameters Income and Ethnicity to predict Balance. Do the following:\n",
    "1. You are allowed to use sklearn, but not statsmodels.\n",
    "2. Build a model that takes Ethnicity with dummy variables. \n",
    "3. Show that building three separate models for each possible Ethnicity value will result in the same models as in case of using Ethnicity with dummy variables in one model. "
   ]
  },
  {
   "cell_type": "code",
   "execution_count": 1,
   "id": "3e0218af",
   "metadata": {},
   "outputs": [],
   "source": [
    "import pandas as pd\n",
    "import seaborn as sns\n",
    "import numpy as np\n",
    "from sklearn import linear_model\n",
    "from sklearn.model_selection import train_test_split\n",
    "from sklearn import metrics\n",
    "from sklearn.preprocessing import StandardScaler\n",
    "from sklearn.linear_model import LogisticRegression"
   ]
  },
  {
   "cell_type": "code",
   "execution_count": 2,
   "id": "3101f19b",
   "metadata": {},
   "outputs": [],
   "source": [
    "df = pd.read_csv('Credit.csv')\n",
    "\n",
    "#Taking dataset with only 3 columns \n",
    "df1 = df[['Income', 'Ethnicity', 'Balance']]\n",
    "#getting dummies for Ethnicity\n",
    "dum = pd.get_dummies(df1['Ethnicity'])\n",
    "df1 = pd.concat([df1, dum], axis=1)\n",
    "df1 = df1.drop('Ethnicity', 1)"
   ]
  },
  {
   "cell_type": "code",
   "execution_count": 3,
   "id": "4e497c62",
   "metadata": {},
   "outputs": [
    {
     "name": "stdout",
     "output_type": "stream",
     "text": [
      "Accuracy for Dataset with dummies in one model: 0.23484848484848486\n"
     ]
    }
   ],
   "source": [
    "#splitting train and test sets\n",
    "y = df1.Balance\n",
    "X = df1.drop('Balance', 1)\n",
    "\n",
    "#scaling\n",
    "ss = StandardScaler()\n",
    "ss.fit(X)\n",
    "X = ss.transform(X)\n",
    "\n",
    "X_train, X_test, y_train, y_test = train_test_split(X, y, test_size = 0.33, random_state = 42)\n",
    "\n",
    "#fitting the model\n",
    "clf = LogisticRegression()\n",
    "clf.fit(X_train, y_train)\n",
    "\n",
    "#predicting\n",
    "pred = clf.predict(X_test)\n",
    "print ('Accuracy for Dataset with dummies in one model: {0}'.format(clf.score(X_test, y_test)))"
   ]
  },
  {
   "cell_type": "code",
   "execution_count": 4,
   "id": "7ba42f1c",
   "metadata": {
    "scrolled": true
   },
   "outputs": [
    {
     "name": "stdout",
     "output_type": "stream",
     "text": [
      "Accuracy for Dataset with only African American Ethnicity: 0.23484848484848486\n"
     ]
    }
   ],
   "source": [
    "#THE SAME OPERATIONS WITH THREE POSSIBLE ETHNICITY VALUES\n",
    "df1_1 = df1.iloc[:, [0,1,2]]\n",
    "y = df1_1.Balance\n",
    "X = df1_1.drop('Balance', 1)\n",
    "\n",
    "ss = StandardScaler()\n",
    "ss.fit(X)\n",
    "X = ss.transform(X)\n",
    "\n",
    "X_train, X_test, y_train, y_test = train_test_split(X, y, test_size = 0.33, random_state = 42)\n",
    "\n",
    "clf = LogisticRegression()\n",
    "clf.fit(X_train, y_train)\n",
    "\n",
    "pred = clf.predict(X_test)\n",
    "print ('Accuracy for Dataset with only African American Ethnicity: {0}'.format(clf.score(X_test, y_test)))"
   ]
  },
  {
   "cell_type": "code",
   "execution_count": 5,
   "id": "d0f6bafd",
   "metadata": {},
   "outputs": [
    {
     "name": "stdout",
     "output_type": "stream",
     "text": [
      "Accuracy for Dataset with only Asian Ethnicity: 0.23484848484848486\n"
     ]
    }
   ],
   "source": [
    "#THE SAME OPERATIONS WITH THREE POSSIBLE ETHNICITY VALUES\n",
    "df1_1 = df1.iloc[:, [0,1,3]]\n",
    "y = df1_1.Balance\n",
    "X = df1_1.drop('Balance', 1)\n",
    "\n",
    "ss = StandardScaler()\n",
    "ss.fit(X)\n",
    "X = ss.transform(X)\n",
    "\n",
    "X_train, X_test, y_train, y_test = train_test_split(X, y, test_size = 0.33, random_state = 42)\n",
    "\n",
    "clf = LogisticRegression()\n",
    "clf.fit(X_train, y_train)\n",
    "\n",
    "pred = clf.predict(X_test)\n",
    "print ('Accuracy for Dataset with only Asian Ethnicity: {0}'.format(clf.score(X_test, y_test)))"
   ]
  },
  {
   "cell_type": "code",
   "execution_count": 6,
   "id": "79535dcb",
   "metadata": {},
   "outputs": [
    {
     "name": "stdout",
     "output_type": "stream",
     "text": [
      "Accuracy for Dataset with only Caucasian Ethnicity: 0.23484848484848486\n"
     ]
    }
   ],
   "source": [
    "#THE SAME OPERATIONS WITH THREE POSSIBLE ETHNICITY VALUES\n",
    "df1_1 = df1.iloc[:, [0,1,4]]\n",
    "y = df1_1.Balance\n",
    "X = df1_1.drop('Balance', 1)\n",
    "\n",
    "ss = StandardScaler()\n",
    "ss.fit(X)\n",
    "X = ss.transform(X)\n",
    "\n",
    "X_train, X_test, y_train, y_test = train_test_split(X, y, test_size = 0.33, random_state = 42)\n",
    "\n",
    "clf = LogisticRegression()\n",
    "clf.fit(X_train, y_train)\n",
    "\n",
    "pred = clf.predict(X_test)\n",
    "print ('Accuracy for Dataset with only Caucasian Ethnicity: {0}'.format(clf.score(X_test, y_test)))"
   ]
  },
  {
   "cell_type": "markdown",
   "id": "422c5d5e",
   "metadata": {},
   "source": [
    "So, we can see that the result of accuracy score for all of them was the same."
   ]
  },
  {
   "cell_type": "markdown",
   "id": "b2eaf81f",
   "metadata": {},
   "source": [
    "## Q2 (60%)\n",
    "Build your best model to predict Balance. Do the following steps:\n",
    "1. Use 10% of data for testing set with random seed = 2021, i.e. you will get 40 observations for testing. \n",
    "2. You can use any available parameters, also you can do feature engineering. \n",
    "3. Evaluate performance of your model/models on test set and use MSE and R-squared as evaluation metrics.\n",
    "4. Describe every step you do and show obtained results at the end.\n",
    "\n",
    "*Note: if you apply (correctly) more techniques, you will get higher mark.*"
   ]
  },
  {
   "cell_type": "code",
   "execution_count": 7,
   "id": "7182eb77",
   "metadata": {},
   "outputs": [],
   "source": [
    "df = pd.read_csv('Credit.csv', skipinitialspace=True,)\n",
    "df_copy = df.copy()\n",
    "\n",
    "#changing column values to 1 and 0 instead of 'Yes', 'No', 'Male', 'Female'\n",
    "for c in ['Student', 'Married']:\n",
    "    df.loc[:, c] = df[c].map({'Yes' : 1, 'No' : 0})\n",
    "    \n",
    "df.loc[:, 'Gender'] = df['Gender'].map({'Male' : 1, 'Female' : 0})\n",
    "\n",
    "#taking dummies for Ethnicity column\n",
    "dum = pd.get_dummies(df['Ethnicity'])\n",
    "df = pd.concat([df, dum], axis=1)\n",
    "df = df.drop('Ethnicity', 1)"
   ]
  },
  {
   "cell_type": "code",
   "execution_count": 8,
   "id": "c54f4432",
   "metadata": {},
   "outputs": [
    {
     "data": {
      "text/plain": [
       "<AxesSubplot:>"
      ]
     },
     "execution_count": 8,
     "metadata": {},
     "output_type": "execute_result"
    },
    {
     "data": {
      "image/png": "[encoded data removed]",
      "text/plain": [
       "<Figure size 432x288 with 2 Axes>"
      ]
     },
     "metadata": {
      "needs_background": "light"
     },
     "output_type": "display_data"
    }
   ],
   "source": [
    "#looking for correlation\n",
    "sns.heatmap(df.corr())"
   ]
  },
  {
   "cell_type": "code",
   "execution_count": 9,
   "id": "4d0a01c5",
   "metadata": {},
   "outputs": [
    {
     "data": {
      "text/html": [
       "<div>\n",
       "<style scoped>\n",
       "    .dataframe tbody tr th:only-of-type {\n",
       "        vertical-align: middle;\n",
       "    }\n",
       "\n",
       "    .dataframe tbody tr th {\n",
       "        vertical-align: top;\n",
       "    }\n",
       "\n",
       "    .dataframe thead th {\n",
       "        text-align: right;\n",
       "    }\n",
       "</style>\n",
       "<table border=\"1\" class=\"dataframe\">\n",
       "  <thead>\n",
       "    <tr style=\"text-align: right;\">\n",
       "      <th></th>\n",
       "      <th>Income</th>\n",
       "      <th>Limit</th>\n",
       "      <th>Cards</th>\n",
       "      <th>Age</th>\n",
       "      <th>Education</th>\n",
       "      <th>Gender</th>\n",
       "      <th>Student</th>\n",
       "      <th>Married</th>\n",
       "      <th>Balance</th>\n",
       "      <th>African American</th>\n",
       "      <th>Asian</th>\n",
       "      <th>Caucasian</th>\n",
       "    </tr>\n",
       "  </thead>\n",
       "  <tbody>\n",
       "    <tr>\n",
       "      <th>0</th>\n",
       "      <td>14.891</td>\n",
       "      <td>3606</td>\n",
       "      <td>2</td>\n",
       "      <td>34</td>\n",
       "      <td>11</td>\n",
       "      <td>1</td>\n",
       "      <td>0</td>\n",
       "      <td>1</td>\n",
       "      <td>333</td>\n",
       "      <td>0</td>\n",
       "      <td>0</td>\n",
       "      <td>1</td>\n",
       "    </tr>\n",
       "    <tr>\n",
       "      <th>1</th>\n",
       "      <td>106.025</td>\n",
       "      <td>6645</td>\n",
       "      <td>3</td>\n",
       "      <td>82</td>\n",
       "      <td>15</td>\n",
       "      <td>0</td>\n",
       "      <td>1</td>\n",
       "      <td>1</td>\n",
       "      <td>903</td>\n",
       "      <td>0</td>\n",
       "      <td>1</td>\n",
       "      <td>0</td>\n",
       "    </tr>\n",
       "    <tr>\n",
       "      <th>2</th>\n",
       "      <td>104.593</td>\n",
       "      <td>7075</td>\n",
       "      <td>4</td>\n",
       "      <td>71</td>\n",
       "      <td>11</td>\n",
       "      <td>1</td>\n",
       "      <td>0</td>\n",
       "      <td>0</td>\n",
       "      <td>580</td>\n",
       "      <td>0</td>\n",
       "      <td>1</td>\n",
       "      <td>0</td>\n",
       "    </tr>\n",
       "    <tr>\n",
       "      <th>3</th>\n",
       "      <td>148.924</td>\n",
       "      <td>9504</td>\n",
       "      <td>3</td>\n",
       "      <td>36</td>\n",
       "      <td>11</td>\n",
       "      <td>0</td>\n",
       "      <td>0</td>\n",
       "      <td>0</td>\n",
       "      <td>964</td>\n",
       "      <td>0</td>\n",
       "      <td>1</td>\n",
       "      <td>0</td>\n",
       "    </tr>\n",
       "    <tr>\n",
       "      <th>4</th>\n",
       "      <td>55.882</td>\n",
       "      <td>4897</td>\n",
       "      <td>2</td>\n",
       "      <td>68</td>\n",
       "      <td>16</td>\n",
       "      <td>1</td>\n",
       "      <td>0</td>\n",
       "      <td>1</td>\n",
       "      <td>331</td>\n",
       "      <td>0</td>\n",
       "      <td>0</td>\n",
       "      <td>1</td>\n",
       "    </tr>\n",
       "    <tr>\n",
       "      <th>...</th>\n",
       "      <td>...</td>\n",
       "      <td>...</td>\n",
       "      <td>...</td>\n",
       "      <td>...</td>\n",
       "      <td>...</td>\n",
       "      <td>...</td>\n",
       "      <td>...</td>\n",
       "      <td>...</td>\n",
       "      <td>...</td>\n",
       "      <td>...</td>\n",
       "      <td>...</td>\n",
       "      <td>...</td>\n",
       "    </tr>\n",
       "    <tr>\n",
       "      <th>395</th>\n",
       "      <td>12.096</td>\n",
       "      <td>4100</td>\n",
       "      <td>3</td>\n",
       "      <td>32</td>\n",
       "      <td>13</td>\n",
       "      <td>1</td>\n",
       "      <td>0</td>\n",
       "      <td>1</td>\n",
       "      <td>560</td>\n",
       "      <td>0</td>\n",
       "      <td>0</td>\n",
       "      <td>1</td>\n",
       "    </tr>\n",
       "    <tr>\n",
       "      <th>396</th>\n",
       "      <td>13.364</td>\n",
       "      <td>3838</td>\n",
       "      <td>5</td>\n",
       "      <td>65</td>\n",
       "      <td>17</td>\n",
       "      <td>1</td>\n",
       "      <td>0</td>\n",
       "      <td>0</td>\n",
       "      <td>480</td>\n",
       "      <td>1</td>\n",
       "      <td>0</td>\n",
       "      <td>0</td>\n",
       "    </tr>\n",
       "    <tr>\n",
       "      <th>397</th>\n",
       "      <td>57.872</td>\n",
       "      <td>4171</td>\n",
       "      <td>5</td>\n",
       "      <td>67</td>\n",
       "      <td>12</td>\n",
       "      <td>0</td>\n",
       "      <td>0</td>\n",
       "      <td>1</td>\n",
       "      <td>138</td>\n",
       "      <td>0</td>\n",
       "      <td>0</td>\n",
       "      <td>1</td>\n",
       "    </tr>\n",
       "    <tr>\n",
       "      <th>398</th>\n",
       "      <td>37.728</td>\n",
       "      <td>2525</td>\n",
       "      <td>1</td>\n",
       "      <td>44</td>\n",
       "      <td>13</td>\n",
       "      <td>1</td>\n",
       "      <td>0</td>\n",
       "      <td>1</td>\n",
       "      <td>0</td>\n",
       "      <td>0</td>\n",
       "      <td>0</td>\n",
       "      <td>1</td>\n",
       "    </tr>\n",
       "    <tr>\n",
       "      <th>399</th>\n",
       "      <td>18.701</td>\n",
       "      <td>5524</td>\n",
       "      <td>5</td>\n",
       "      <td>64</td>\n",
       "      <td>7</td>\n",
       "      <td>0</td>\n",
       "      <td>0</td>\n",
       "      <td>0</td>\n",
       "      <td>966</td>\n",
       "      <td>0</td>\n",
       "      <td>1</td>\n",
       "      <td>0</td>\n",
       "    </tr>\n",
       "  </tbody>\n",
       "</table>\n",
       "<p>400 rows × 12 columns</p>\n",
       "</div>"
      ],
      "text/plain": [
       "      Income  Limit  Cards  Age  Education  Gender  Student  Married  Balance  \\\n",
       "0     14.891   3606      2   34         11       1        0        1      333   \n",
       "1    106.025   6645      3   82         15       0        1        1      903   \n",
       "2    104.593   7075      4   71         11       1        0        0      580   \n",
       "3    148.924   9504      3   36         11       0        0        0      964   \n",
       "4     55.882   4897      2   68         16       1        0        1      331   \n",
       "..       ...    ...    ...  ...        ...     ...      ...      ...      ...   \n",
       "395   12.096   4100      3   32         13       1        0        1      560   \n",
       "396   13.364   3838      5   65         17       1        0        0      480   \n",
       "397   57.872   4171      5   67         12       0        0        1      138   \n",
       "398   37.728   2525      1   44         13       1        0        1        0   \n",
       "399   18.701   5524      5   64          7       0        0        0      966   \n",
       "\n",
       "     African American  Asian  Caucasian  \n",
       "0                   0      0          1  \n",
       "1                   0      1          0  \n",
       "2                   0      1          0  \n",
       "3                   0      1          0  \n",
       "4                   0      0          1  \n",
       "..                ...    ...        ...  \n",
       "395                 0      0          1  \n",
       "396                 1      0          0  \n",
       "397                 0      0          1  \n",
       "398                 0      0          1  \n",
       "399                 0      1          0  \n",
       "\n",
       "[400 rows x 12 columns]"
      ]
     },
     "execution_count": 9,
     "metadata": {},
     "output_type": "execute_result"
    }
   ],
   "source": [
    "corr_matrix = df.corr().abs()\n",
    "# Select upper triangle of correlation matrix\n",
    "upper = corr_matrix.where(np.triu(np.ones(corr_matrix.shape), k=1).astype(np.bool))\n",
    "# Find features with correlation greater than 0.95\n",
    "to_drop = [column for column in upper.columns if any(upper[column] > 0.95)]\n",
    "# Dropping highly correlated features \n",
    "df.drop(to_drop, axis=1, inplace=True)\n",
    "df"
   ]
  },
  {
   "cell_type": "code",
   "execution_count": 11,
   "id": "92cf7cc8",
   "metadata": {},
   "outputs": [
    {
     "name": "stdout",
     "output_type": "stream",
     "text": [
      "520.9726839016329\n",
      "[-2.72520938e+02  6.11648933e+02  3.11754723e+01 -1.01382117e+01\n",
      " -4.36185395e+00  7.16615491e+00  1.29390683e+02 -2.98183758e+00\n",
      " -3.60087094e+00  2.98473408e+00  5.06128030e-01]\n",
      "MSE:  7431.397982224522\n",
      "R2 score:  0.9620582658250865\n"
     ]
    }
   ],
   "source": [
    "cols = df.columns\n",
    "cols = cols.drop('Balance')\n",
    "#print(cols)\n",
    "#splitting for train, test sets with 10% of data for testing set\n",
    "y = df.Balance\n",
    "X = df.drop('Balance', 1)\n",
    "\n",
    "#scaling for better performance\n",
    "ss = StandardScaler()\n",
    "ss.fit(X)\n",
    "X = ss.transform(X)\n",
    "\n",
    "X_train, X_test, y_train, y_test = train_test_split(X, y, test_size = 0.10, random_state = 2021)\n",
    "\n",
    "#fitting the model\n",
    "reg = linear_model.LinearRegression()\n",
    "reg.fit(X_train, y_train)\n",
    "\n",
    "print(reg.intercept_)\n",
    "print(reg.coef_)\n",
    "\n",
    "zip(cols, reg.coef_)\n",
    "\n",
    "#predicting\n",
    "y_pred = reg.predict(X_test)\n",
    "\n",
    "print('MSE: ', metrics.mean_squared_error(y_test, y_pred))\n",
    "print('R2 score: ', metrics.r2_score(y_test, y_pred))"
   ]
  }
 ],
 "metadata": {
  "kernelspec": {
   "display_name": "Python 3",
   "language": "python",
   "name": "python3"
  },
  "language_info": {
   "codemirror_mode": {
    "name": "ipython",
    "version": 3
   },
   "file_extension": ".py",
   "mimetype": "text/x-python",
   "name": "python",
   "nbconvert_exporter": "python",
   "pygments_lexer": "ipython3",
   "version": "3.8.8"
  }
 },
 "nbformat": 4,
 "nbformat_minor": 5
}
