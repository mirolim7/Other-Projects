{
 "cells": [
  {
   "cell_type": "markdown",
   "metadata": {},
   "source": [
    "# PDS: Endterm - Practical part\n",
    "\n",
    "### Date: February 26\n",
    "\n",
    "### Time: 15:00 - 16:30\n",
    "\n",
    "\n",
    "**Instructions:** \n",
    "* Write your full name and group number in the title of file;\n",
    "* All answers should be filled in the notebook and then submitted to Moodle;\n",
    "* Try to use fewer cells for compilation (for example, you can use print for several answers, instead of printing each answer on a separate cell)\n",
    "* **IMPORTANT NOTE:** you will get points only for correct answers, not for trials or wrong answers. Your notebook should run if I will press **\"Restart Kernel\"** and then press **\"Run All\"**. I am going to check answers only after doing that. If the code do not compile, you will get zero. "
   ]
  },
  {
   "cell_type": "code",
   "execution_count": 1,
   "metadata": {},
   "outputs": [],
   "source": [
    "import pandas as pd\n",
    "import numpy as np"
   ]
  },
  {
   "cell_type": "markdown",
   "metadata": {},
   "source": [
    "## Problem 1 (1 point)\n",
    "\n",
    "Create a function that takes non empty string as input, and returns Boolean output, which tells if a string is a polindrom. Polindrom is a string that has the same spelling from the left to the right and vice-versa. One symbol strings are also polyndroms. For example, 'aba' is a polindrom, while 'abc' is not a polindrom.\n",
    "\n",
    "Use the following strings to check created function: \n",
    "1. 'a'\n",
    "2. 'abcd'\n",
    "3. 'abcdcba'\n",
    "4. 'lol'\n",
    "5. 'data'"
   ]
  },
  {
   "cell_type": "code",
   "execution_count": 15,
   "metadata": {},
   "outputs": [
    {
     "name": "stdout",
     "output_type": "stream",
     "text": [
      "a\n",
      "True\n",
      "abcd\n",
      "False\n",
      "abcdcba\n",
      "True\n",
      "lol\n",
      "True\n",
      "data\n",
      "False\n"
     ]
    }
   ],
   "source": [
    "def pal(st):\n",
    "    return st == st[::-1]\n",
    "    \n",
    "for i in range(1, 6):\n",
    "    s = input()\n",
    "    print(pal(s))"
   ]
  },
  {
   "cell_type": "markdown",
   "metadata": {},
   "source": [
    "## Problem 2 (2 points)\n",
    "Create a function that takes non empty string as input, and returns Boolean output, which tells if a string is an isogram. Isogram is a string that does not have repeating symbols. For example, 'abcd' is an isogram, while 'abca' is not an isogram.\n",
    "\n",
    "Use the following strings to check created function: \n",
    "1. 'abcdcba'\n",
    "2. 'abcdefg'\n",
    "3. 'bowling'\n",
    "4. 'lol'\n",
    "5. 'data'"
   ]
  },
  {
   "cell_type": "code",
   "execution_count": 19,
   "metadata": {},
   "outputs": [
    {
     "name": "stdout",
     "output_type": "stream",
     "text": [
      "abcdcba\n",
      "False\n",
      "abcdefg\n",
      "True\n",
      "bowling\n",
      "True\n",
      "lol\n",
      "False\n",
      "data\n",
      "False\n"
     ]
    }
   ],
   "source": [
    "def iso(st):\n",
    "    dc = {}\n",
    "    for l in st:\n",
    "        if l in dc:\n",
    "            return False\n",
    "        else:\n",
    "            dc[l] = 1\n",
    "        \n",
    "    return True\n",
    "\n",
    "for i in range(1, 6):\n",
    "    s = input()\n",
    "    print(iso(s))"
   ]
  },
  {
   "cell_type": "markdown",
   "metadata": {},
   "source": [
    "## Problem 3 (2 points)\n",
    "You have an array of numbers and one number (k). Create a function, that moves this number k to the end the array, and then returns changed array. Function should perform all changes inplace, i.e. movements should take place inside the array without creating intermediary array, ignoring the order of numbers other than k. For example, array = [3,2,3,3,4,3,5,1,3,2] and k = 3, then after applying function you should get [2,4,5,1,2,3,3,3,3,3].\n",
    "\n",
    "Use the following inputs to check created function:\n",
    "1. [1,1,2] and 1\n",
    "2. [1,2,2,1,2,1] and 2\n",
    "3. [3,2,3,3,4,3,5,1,3,2] and 3\n"
   ]
  },
  {
   "cell_type": "code",
   "execution_count": 26,
   "metadata": {},
   "outputs": [
    {
     "name": "stdout",
     "output_type": "stream",
     "text": [
      "1 1 2\n",
      "1\n",
      "['2', '1', '1']\n",
      "1 2 2 1 2 1\n",
      "2\n",
      "['1', '1', '1', '2', '2', '2']\n",
      "3 2 3 3 4 3 5 1 3 2\n",
      "3\n",
      "['2', '4', '5', '1', '2', '3', '3', '3', '3', '3']\n"
     ]
    }
   ],
   "source": [
    "def push_back(arr, n):\n",
    "    return sorted(arr, key=lambda x: x is n)    \n",
    "    \n",
    "for i in range(1, 4):\n",
    "    array = input().replace(' ', '')\n",
    "    num = input()\n",
    "    print(push_back(array, num))"
   ]
  },
  {
   "cell_type": "markdown",
   "metadata": {},
   "source": [
    "## Problem 4 (5 points)\n",
    "For Coursera dataset (coursea_data.csv), do the tasks below.\n",
    "\n",
    "Link to dataset: https://www.kaggle.com/siddharthm1698/coursera-course-dataset"
   ]
  },
  {
   "cell_type": "markdown",
   "metadata": {},
   "source": [
    "### 1. Find three the most commonly appearing combination of certificate type and course difficulty. Show cerfiticate type, course difficulty and number of courses. (1 point)"
   ]
  },
  {
   "cell_type": "code",
   "execution_count": 51,
   "metadata": {
    "scrolled": false
   },
   "outputs": [
    {
     "data": {
      "text/plain": [
       "COURSE Beginner            282\n",
       "SPECIALIZATION Beginner    196\n",
       "COURSE Mixed               187\n",
       "dtype: int64"
      ]
     },
     "execution_count": 51,
     "metadata": {},
     "output_type": "execute_result"
    }
   ],
   "source": [
    "df  = pd.read_csv('coursera_data.csv')\n",
    "\n",
    "ds = df['course_Certificate_type'] + ' ' + df['course_difficulty']\n",
    "ds.value_counts().head(3)"
   ]
  },
  {
   "cell_type": "markdown",
   "metadata": {},
   "source": [
    "### 2. Among 'Data Science' courses, find the course with the 2nd highest rating among Intermediate level courses. For obtained course, show its title, organization, and number of students enrolled. (1 point)"
   ]
  },
  {
   "cell_type": "code",
   "execution_count": 52,
   "metadata": {},
   "outputs": [
    {
     "data": {
      "text/html": [
       "<div>\n",
       "<style scoped>\n",
       "    .dataframe tbody tr th:only-of-type {\n",
       "        vertical-align: middle;\n",
       "    }\n",
       "\n",
       "    .dataframe tbody tr th {\n",
       "        vertical-align: top;\n",
       "    }\n",
       "\n",
       "    .dataframe thead th {\n",
       "        text-align: right;\n",
       "    }\n",
       "</style>\n",
       "<table border=\"1\" class=\"dataframe\">\n",
       "  <thead>\n",
       "    <tr style=\"text-align: right;\">\n",
       "      <th></th>\n",
       "      <th>Unnamed: 0</th>\n",
       "      <th>course_title</th>\n",
       "      <th>course_organization</th>\n",
       "      <th>course_Certificate_type</th>\n",
       "      <th>course_rating</th>\n",
       "      <th>course_difficulty</th>\n",
       "      <th>course_students_enrolled</th>\n",
       "    </tr>\n",
       "  </thead>\n",
       "  <tbody>\n",
       "    <tr>\n",
       "      <th>0</th>\n",
       "      <td>134</td>\n",
       "      <td>(ISC)² Systems Security Certified Practitioner...</td>\n",
       "      <td>(ISC)²</td>\n",
       "      <td>SPECIALIZATION</td>\n",
       "      <td>4.7</td>\n",
       "      <td>Beginner</td>\n",
       "      <td>5.3k</td>\n",
       "    </tr>\n",
       "    <tr>\n",
       "      <th>1</th>\n",
       "      <td>743</td>\n",
       "      <td>A Crash Course in Causality:  Inferring Causal...</td>\n",
       "      <td>University of Pennsylvania</td>\n",
       "      <td>COURSE</td>\n",
       "      <td>4.7</td>\n",
       "      <td>Intermediate</td>\n",
       "      <td>17k</td>\n",
       "    </tr>\n",
       "    <tr>\n",
       "      <th>2</th>\n",
       "      <td>874</td>\n",
       "      <td>A Crash Course in Data Science</td>\n",
       "      <td>Johns Hopkins University</td>\n",
       "      <td>COURSE</td>\n",
       "      <td>4.5</td>\n",
       "      <td>Mixed</td>\n",
       "      <td>130k</td>\n",
       "    </tr>\n",
       "    <tr>\n",
       "      <th>3</th>\n",
       "      <td>413</td>\n",
       "      <td>A Law Student's Toolkit</td>\n",
       "      <td>Yale University</td>\n",
       "      <td>COURSE</td>\n",
       "      <td>4.7</td>\n",
       "      <td>Mixed</td>\n",
       "      <td>91k</td>\n",
       "    </tr>\n",
       "    <tr>\n",
       "      <th>4</th>\n",
       "      <td>635</td>\n",
       "      <td>A Life of Happiness and Fulfillment</td>\n",
       "      <td>Indian School of Business</td>\n",
       "      <td>COURSE</td>\n",
       "      <td>4.8</td>\n",
       "      <td>Mixed</td>\n",
       "      <td>320k</td>\n",
       "    </tr>\n",
       "    <tr>\n",
       "      <th>...</th>\n",
       "      <td>...</td>\n",
       "      <td>...</td>\n",
       "      <td>...</td>\n",
       "      <td>...</td>\n",
       "      <td>...</td>\n",
       "      <td>...</td>\n",
       "      <td>...</td>\n",
       "    </tr>\n",
       "    <tr>\n",
       "      <th>886</th>\n",
       "      <td>236</td>\n",
       "      <td>Программирование на Python</td>\n",
       "      <td>Mail.Ru Group</td>\n",
       "      <td>SPECIALIZATION</td>\n",
       "      <td>4.5</td>\n",
       "      <td>Intermediate</td>\n",
       "      <td>52k</td>\n",
       "    </tr>\n",
       "    <tr>\n",
       "      <th>887</th>\n",
       "      <td>883</td>\n",
       "      <td>Психолингвистика (Psycholinguistics)</td>\n",
       "      <td>Saint Petersburg State University</td>\n",
       "      <td>COURSE</td>\n",
       "      <td>4.8</td>\n",
       "      <td>Mixed</td>\n",
       "      <td>21k</td>\n",
       "    </tr>\n",
       "    <tr>\n",
       "      <th>888</th>\n",
       "      <td>545</td>\n",
       "      <td>Разработка интерфейсов: вёрстка и JavaScript</td>\n",
       "      <td>E-Learning Development Fund</td>\n",
       "      <td>SPECIALIZATION</td>\n",
       "      <td>4.5</td>\n",
       "      <td>Intermediate</td>\n",
       "      <td>30k</td>\n",
       "    </tr>\n",
       "    <tr>\n",
       "      <th>889</th>\n",
       "      <td>875</td>\n",
       "      <td>Русский как иностранный</td>\n",
       "      <td>Saint Petersburg State University</td>\n",
       "      <td>SPECIALIZATION</td>\n",
       "      <td>4.6</td>\n",
       "      <td>Intermediate</td>\n",
       "      <td>9.8k</td>\n",
       "    </tr>\n",
       "    <tr>\n",
       "      <th>890</th>\n",
       "      <td>163</td>\n",
       "      <td>Финансовые инструменты для частного инвестора</td>\n",
       "      <td>National Research University Higher School of ...</td>\n",
       "      <td>SPECIALIZATION</td>\n",
       "      <td>4.7</td>\n",
       "      <td>Beginner</td>\n",
       "      <td>38k</td>\n",
       "    </tr>\n",
       "  </tbody>\n",
       "</table>\n",
       "<p>891 rows × 7 columns</p>\n",
       "</div>"
      ],
      "text/plain": [
       "     Unnamed: 0                                       course_title  \\\n",
       "0           134  (ISC)² Systems Security Certified Practitioner...   \n",
       "1           743  A Crash Course in Causality:  Inferring Causal...   \n",
       "2           874                     A Crash Course in Data Science   \n",
       "3           413                            A Law Student's Toolkit   \n",
       "4           635                A Life of Happiness and Fulfillment   \n",
       "..          ...                                                ...   \n",
       "886         236                         Программирование на Python   \n",
       "887         883               Психолингвистика (Psycholinguistics)   \n",
       "888         545       Разработка интерфейсов: вёрстка и JavaScript   \n",
       "889         875                            Русский как иностранный   \n",
       "890         163      Финансовые инструменты для частного инвестора   \n",
       "\n",
       "                                   course_organization  \\\n",
       "0                                               (ISC)²   \n",
       "1                           University of Pennsylvania   \n",
       "2                             Johns Hopkins University   \n",
       "3                                      Yale University   \n",
       "4                            Indian School of Business   \n",
       "..                                                 ...   \n",
       "886                                      Mail.Ru Group   \n",
       "887                  Saint Petersburg State University   \n",
       "888                        E-Learning Development Fund   \n",
       "889                  Saint Petersburg State University   \n",
       "890  National Research University Higher School of ...   \n",
       "\n",
       "    course_Certificate_type  course_rating course_difficulty  \\\n",
       "0            SPECIALIZATION            4.7          Beginner   \n",
       "1                    COURSE            4.7      Intermediate   \n",
       "2                    COURSE            4.5             Mixed   \n",
       "3                    COURSE            4.7             Mixed   \n",
       "4                    COURSE            4.8             Mixed   \n",
       "..                      ...            ...               ...   \n",
       "886          SPECIALIZATION            4.5      Intermediate   \n",
       "887                  COURSE            4.8             Mixed   \n",
       "888          SPECIALIZATION            4.5      Intermediate   \n",
       "889          SPECIALIZATION            4.6      Intermediate   \n",
       "890          SPECIALIZATION            4.7          Beginner   \n",
       "\n",
       "    course_students_enrolled  \n",
       "0                       5.3k  \n",
       "1                        17k  \n",
       "2                       130k  \n",
       "3                        91k  \n",
       "4                       320k  \n",
       "..                       ...  \n",
       "886                      52k  \n",
       "887                      21k  \n",
       "888                      30k  \n",
       "889                     9.8k  \n",
       "890                      38k  \n",
       "\n",
       "[891 rows x 7 columns]"
      ]
     },
     "execution_count": 52,
     "metadata": {},
     "output_type": "execute_result"
    }
   ],
   "source": [
    "df"
   ]
  },
  {
   "cell_type": "code",
   "execution_count": 67,
   "metadata": {},
   "outputs": [
    {
     "name": "stdout",
     "output_type": "stream",
     "text": [
      "so the second highest is: Applied Data Science with Python, specialized \n"
     ]
    },
    {
     "data": {
      "text/html": [
       "<div>\n",
       "<style scoped>\n",
       "    .dataframe tbody tr th:only-of-type {\n",
       "        vertical-align: middle;\n",
       "    }\n",
       "\n",
       "    .dataframe tbody tr th {\n",
       "        vertical-align: top;\n",
       "    }\n",
       "\n",
       "    .dataframe thead th {\n",
       "        text-align: right;\n",
       "    }\n",
       "</style>\n",
       "<table border=\"1\" class=\"dataframe\">\n",
       "  <thead>\n",
       "    <tr style=\"text-align: right;\">\n",
       "      <th></th>\n",
       "      <th>Unnamed: 0</th>\n",
       "      <th>course_title</th>\n",
       "      <th>course_organization</th>\n",
       "      <th>course_Certificate_type</th>\n",
       "      <th>course_rating</th>\n",
       "      <th>course_difficulty</th>\n",
       "      <th>course_students_enrolled</th>\n",
       "    </tr>\n",
       "  </thead>\n",
       "  <tbody>\n",
       "    <tr>\n",
       "      <th>55</th>\n",
       "      <td>637</td>\n",
       "      <td>Applied Data Science Capstone</td>\n",
       "      <td>IBM</td>\n",
       "      <td>COURSE</td>\n",
       "      <td>4.7</td>\n",
       "      <td>Intermediate</td>\n",
       "      <td>42k</td>\n",
       "    </tr>\n",
       "    <tr>\n",
       "      <th>56</th>\n",
       "      <td>26</td>\n",
       "      <td>Applied Data Science with Python</td>\n",
       "      <td>University of Michigan</td>\n",
       "      <td>SPECIALIZATION</td>\n",
       "      <td>4.5</td>\n",
       "      <td>Intermediate</td>\n",
       "      <td>480k</td>\n",
       "    </tr>\n",
       "  </tbody>\n",
       "</table>\n",
       "</div>"
      ],
      "text/plain": [
       "    Unnamed: 0                      course_title     course_organization  \\\n",
       "55         637     Applied Data Science Capstone                     IBM   \n",
       "56          26  Applied Data Science with Python  University of Michigan   \n",
       "\n",
       "   course_Certificate_type  course_rating course_difficulty  \\\n",
       "55                  COURSE            4.7      Intermediate   \n",
       "56          SPECIALIZATION            4.5      Intermediate   \n",
       "\n",
       "   course_students_enrolled  \n",
       "55                      42k  \n",
       "56                     480k  "
      ]
     },
     "execution_count": 67,
     "metadata": {},
     "output_type": "execute_result"
    }
   ],
   "source": [
    "df1 = df.loc[df['course_difficulty'] == 'Intermediate']\n",
    "df1 = df1.loc[df1['course_title'].str.contains('Data Science')]\n",
    "df1.sort_values('course_rating', ascending = False)\n",
    "print('so the second highest is: Applied Data Science with Python, specialized ')\n",
    "df1.head(2)"
   ]
  },
  {
   "cell_type": "markdown",
   "metadata": {},
   "source": [
    "### 3. For organizations from Ivy league (list provided below), find the one that has the highest presence in Coursera, i.e. the largest number of courses. For obtained organization, calculate average the rating for each of the certificate types. Show certificate type with mean rating.  (1 point)"
   ]
  },
  {
   "cell_type": "code",
   "execution_count": 7,
   "metadata": {},
   "outputs": [],
   "source": [
    "# your code is here"
   ]
  },
  {
   "cell_type": "markdown",
   "metadata": {},
   "source": [
    "### 4. Create a new column course_students_enrolled_new, which is the same as course_students_enrolled, but with numeric data type. To do that multiply the ones that ends to 'k' by 1000 and 'm' by 1000000. Show first 10 rows of the updated dataframe. (1 point)\n",
    "\n",
    "*Hint: you might need to create a function, and then use apply() method.*"
   ]
  },
  {
   "cell_type": "code",
   "execution_count": 8,
   "metadata": {},
   "outputs": [],
   "source": [
    "# your code is here"
   ]
  },
  {
   "cell_type": "markdown",
   "metadata": {},
   "source": [
    "### 5. Assuming that all enrolled students will earn a certificate from the course, count how many certificates will be issued for each certificate type. Then order number of certificates issued in ascending order. And find share as a percentage (for example, 25.6) of each certificate type. Show result as a dataframe with columns certificate type, corresponding number and share. (1 point)"
   ]
  },
  {
   "cell_type": "code",
   "execution_count": 9,
   "metadata": {},
   "outputs": [],
   "source": [
    "# your code is here"
   ]
  },
  {
   "cell_type": "markdown",
   "metadata": {},
   "source": [
    "---\n",
    "\n",
    "### Evaluation form (Keep it!)\n",
    "\n",
    "| Question | Mark     | Comment   \n",
    "|:-------:|:--------:|:----------------------\n",
    "| 1       |   1/1    | Correct\n",
    "| 2       |   2/2    | Correct\n",
    "| 3       |   2/2    | Correct\n",
    "| 4.1     |   1/1    | Correct\n",
    "| 4.2     |   1/1    | Correct\n",
    "| 4.3     |   1/1    | Correct\n",
    "| 4.4     |   1/1    | Correct\n",
    "| 4.5     |   1/1    | Correct\n",
    "|**Total**|**10/10**  | \n"
   ]
  }
 ],
 "metadata": {
  "kernelspec": {
   "display_name": "Python 3",
   "language": "python",
   "name": "python3"
  },
  "language_info": {
   "codemirror_mode": {
    "name": "ipython",
    "version": 3
   },
   "file_extension": ".py",
   "mimetype": "text/x-python",
   "name": "python",
   "nbconvert_exporter": "python",
   "pygments_lexer": "ipython3",
   "version": "3.8.5"
  }
 },
 "nbformat": 4,
 "nbformat_minor": 4
}
