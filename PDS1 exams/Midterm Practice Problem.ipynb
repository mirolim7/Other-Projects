{
 "cells": [
  {
   "cell_type": "markdown",
   "metadata": {},
   "source": [
    "# Programmin for DS\n",
    "## Midterm Practice\n",
    "\n",
    "In order to get max scores, please write explanations and comments for each step. In addition, try to comment you code pieces. Use your knowledge of visualising from previous course."
   ]
  },
  {
   "cell_type": "markdown",
   "metadata": {},
   "source": [
    "## Problem 1"
   ]
  },
  {
   "cell_type": "markdown",
   "metadata": {},
   "source": [
    "* read data.csv into Pandas dataframe\n",
    "* remove NaN observations\n",
    "* for __Projected Annual Salary__ convert it into float (remove _$_ in front of salary) and delete 0's from dataframe\n",
    "* plot distribution of salary\n",
    "* create 2 samples for salries in year 2015 and 2016\n",
    "* calculate mean and std for 2 samples\n",
    "* assume 2015's parameters as population parameters and reject (or fail to reject) hypothesis that salaries in 2016 increased with 95% confidence level (write all 6/7 steps for hypothesis testing, you can use traditional or p-value method). z-critical is 1.65\n",
    "* write conclusions"
   ]
  },
  {
   "cell_type": "code",
   "execution_count": 5,
   "metadata": {},
   "outputs": [],
   "source": [
    "# your code is here"
   ]
  },
  {
   "cell_type": "markdown",
   "metadata": {},
   "source": [
    "## Problem 2"
   ]
  },
  {
   "cell_type": "markdown",
   "metadata": {},
   "source": [
    "Average data scientists salary is 113 309 USD with standard deviation 20 000 USD. Answer to following questions:\n",
    "* Probability of getting salary between 125k and 150k USD\n",
    "* Find a salary level of the 35th Percentile\n",
    "* If you take a sample of 100 data scientiest. How many of them will earn more than 120k USD."
   ]
  },
  {
   "cell_type": "code",
   "execution_count": null,
   "metadata": {},
   "outputs": [],
   "source": [
    "# your code is here"
   ]
  },
  {
   "cell_type": "markdown",
   "metadata": {},
   "source": [
    "## Problem 3"
   ]
  },
  {
   "cell_type": "markdown",
   "metadata": {},
   "source": [
    "Build linear regression model from _Problem 1_ dataset. Target variable is 'Average Benefit Cost'. Predictors are: 'Projected Annual Salary','Q1 Payments','Q2 Payments','Q3 Payments','Q4 Payments'.\n",
    "* Split your data into train and test samples (40% for test)\n",
    "* What is the intercept ($w_0$) for your model\n",
    "* What are the coefficients ($w_1, w_2, ...$) for your model\n",
    "* What are the $R^2$ for train and for test samples\n",
    "* Interpret the coefficients\n",
    "* Write down conclusion of your model"
   ]
  },
  {
   "cell_type": "code",
   "execution_count": null,
   "metadata": {},
   "outputs": [],
   "source": [
    "# your code is here"
   ]
  }
 ],
 "metadata": {
  "kernelspec": {
   "display_name": "Python 3",
   "language": "python",
   "name": "python3"
  },
  "language_info": {
   "codemirror_mode": {
    "name": "ipython",
    "version": 3
   },
   "file_extension": ".py",
   "mimetype": "text/x-python",
   "name": "python",
   "nbconvert_exporter": "python",
   "pygments_lexer": "ipython3",
   "version": "3.8.5"
  }
 },
 "nbformat": 4,
 "nbformat_minor": 4
}
